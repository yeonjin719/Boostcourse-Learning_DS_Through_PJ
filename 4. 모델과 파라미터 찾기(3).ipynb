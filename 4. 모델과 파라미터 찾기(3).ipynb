{
 "cells": [
  {
   "cell_type": "code",
   "execution_count": 2,
   "id": "b441ca3e",
   "metadata": {},
   "outputs": [
    {
     "data": {
      "text/html": [
       "<style>.container { width:83%; align: left; }</style>"
      ],
      "text/plain": [
       "<IPython.core.display.HTML object>"
      ]
     },
     "metadata": {},
     "output_type": "display_data"
    },
    {
     "data": {
      "text/html": [
       "<style>#toc-wrapper{ position: relative; width: 20%; top: 130px; left: 0px; }</style>"
      ],
      "text/plain": [
       "<IPython.core.display.HTML object>"
      ]
     },
     "metadata": {},
     "output_type": "display_data"
    }
   ],
   "source": [
    "from IPython.display import display, HTML\n",
    "display(HTML(\"<style>.container { width:83%; align: left; }</style>\"))\n",
    "display(HTML(\"<style>#toc-wrapper{ position: relative; width: 20%; top: 130px; left: 0px; }</style>\"))"
   ]
  },
  {
   "cell_type": "markdown",
   "id": "8fe5ae13-b23a-4f88-b477-a939e656bdc3",
   "metadata": {},
   "source": [
    "## 필요한 라이브러리 로드"
   ]
  },
  {
   "cell_type": "code",
   "execution_count": 3,
   "id": "6c22af7c-4eb5-4cff-9e82-8c984f4b3402",
   "metadata": {},
   "outputs": [],
   "source": [
    "import pandas as pd\n",
    "import numpy as np\n",
    "import seaborn as sns\n",
    "import matplotlib.pyplot as plt\n",
    "%matplotlib inline"
   ]
  },
  {
   "cell_type": "markdown",
   "id": "78fe7aaa-3508-41b4-96e6-c1b74037408c",
   "metadata": {},
   "source": [
    "## 데이터셋 로드"
   ]
  },
  {
   "cell_type": "code",
   "execution_count": 4,
   "id": "63fb77cc-1c5a-4496-859f-c609e9fd0ff5",
   "metadata": {},
   "outputs": [
    {
     "data": {
      "text/plain": [
       "(768, 16)"
      ]
     },
     "execution_count": 4,
     "metadata": {},
     "output_type": "execute_result"
    }
   ],
   "source": [
    "df = pd.read_csv(\"data/diabetes_feature.csv\")\n",
    "df.shape"
   ]
  },
  {
   "cell_type": "code",
   "execution_count": 5,
   "id": "a97672a1-ce9b-4fc1-a5b1-e2473bad84ef",
   "metadata": {},
   "outputs": [
    {
     "data": {
      "text/html": [
       "<div>\n",
       "<style scoped>\n",
       "    .dataframe tbody tr th:only-of-type {\n",
       "        vertical-align: middle;\n",
       "    }\n",
       "\n",
       "    .dataframe tbody tr th {\n",
       "        vertical-align: top;\n",
       "    }\n",
       "\n",
       "    .dataframe thead th {\n",
       "        text-align: right;\n",
       "    }\n",
       "</style>\n",
       "<table border=\"1\" class=\"dataframe\">\n",
       "  <thead>\n",
       "    <tr style=\"text-align: right;\">\n",
       "      <th></th>\n",
       "      <th>Pregnancies</th>\n",
       "      <th>Glucose</th>\n",
       "      <th>BloodPressure</th>\n",
       "      <th>SkinThickness</th>\n",
       "      <th>Insulin</th>\n",
       "      <th>BMI</th>\n",
       "      <th>DiabetesPedigreeFunction</th>\n",
       "      <th>Age</th>\n",
       "      <th>Outcome</th>\n",
       "      <th>Pregnancies_high</th>\n",
       "      <th>Age_low</th>\n",
       "      <th>Age_middle</th>\n",
       "      <th>Age_high</th>\n",
       "      <th>Insulin_nan</th>\n",
       "      <th>Insulin_log</th>\n",
       "      <th>low_glu_insulin</th>\n",
       "    </tr>\n",
       "  </thead>\n",
       "  <tbody>\n",
       "    <tr>\n",
       "      <th>0</th>\n",
       "      <td>6</td>\n",
       "      <td>0.848324</td>\n",
       "      <td>72</td>\n",
       "      <td>35</td>\n",
       "      <td>0</td>\n",
       "      <td>33.6</td>\n",
       "      <td>0.468492</td>\n",
       "      <td>50</td>\n",
       "      <td>1</td>\n",
       "      <td>False</td>\n",
       "      <td>False</td>\n",
       "      <td>True</td>\n",
       "      <td>False</td>\n",
       "      <td>169.5</td>\n",
       "      <td>5.138735</td>\n",
       "      <td>False</td>\n",
       "    </tr>\n",
       "    <tr>\n",
       "      <th>1</th>\n",
       "      <td>1</td>\n",
       "      <td>-1.123396</td>\n",
       "      <td>66</td>\n",
       "      <td>29</td>\n",
       "      <td>0</td>\n",
       "      <td>26.6</td>\n",
       "      <td>-0.365061</td>\n",
       "      <td>31</td>\n",
       "      <td>0</td>\n",
       "      <td>False</td>\n",
       "      <td>False</td>\n",
       "      <td>True</td>\n",
       "      <td>False</td>\n",
       "      <td>102.5</td>\n",
       "      <td>4.639572</td>\n",
       "      <td>True</td>\n",
       "    </tr>\n",
       "    <tr>\n",
       "      <th>2</th>\n",
       "      <td>8</td>\n",
       "      <td>1.943724</td>\n",
       "      <td>64</td>\n",
       "      <td>0</td>\n",
       "      <td>0</td>\n",
       "      <td>23.3</td>\n",
       "      <td>0.604397</td>\n",
       "      <td>32</td>\n",
       "      <td>1</td>\n",
       "      <td>True</td>\n",
       "      <td>False</td>\n",
       "      <td>True</td>\n",
       "      <td>False</td>\n",
       "      <td>169.5</td>\n",
       "      <td>5.138735</td>\n",
       "      <td>False</td>\n",
       "    </tr>\n",
       "    <tr>\n",
       "      <th>3</th>\n",
       "      <td>1</td>\n",
       "      <td>-0.998208</td>\n",
       "      <td>66</td>\n",
       "      <td>23</td>\n",
       "      <td>94</td>\n",
       "      <td>28.1</td>\n",
       "      <td>-0.920763</td>\n",
       "      <td>21</td>\n",
       "      <td>0</td>\n",
       "      <td>False</td>\n",
       "      <td>True</td>\n",
       "      <td>False</td>\n",
       "      <td>False</td>\n",
       "      <td>94.0</td>\n",
       "      <td>4.553877</td>\n",
       "      <td>True</td>\n",
       "    </tr>\n",
       "    <tr>\n",
       "      <th>4</th>\n",
       "      <td>0</td>\n",
       "      <td>0.504055</td>\n",
       "      <td>40</td>\n",
       "      <td>35</td>\n",
       "      <td>168</td>\n",
       "      <td>43.1</td>\n",
       "      <td>5.484909</td>\n",
       "      <td>33</td>\n",
       "      <td>1</td>\n",
       "      <td>False</td>\n",
       "      <td>False</td>\n",
       "      <td>True</td>\n",
       "      <td>False</td>\n",
       "      <td>168.0</td>\n",
       "      <td>5.129899</td>\n",
       "      <td>False</td>\n",
       "    </tr>\n",
       "  </tbody>\n",
       "</table>\n",
       "</div>"
      ],
      "text/plain": [
       "   Pregnancies   Glucose  BloodPressure  SkinThickness  Insulin   BMI  \\\n",
       "0            6  0.848324             72             35        0  33.6   \n",
       "1            1 -1.123396             66             29        0  26.6   \n",
       "2            8  1.943724             64              0        0  23.3   \n",
       "3            1 -0.998208             66             23       94  28.1   \n",
       "4            0  0.504055             40             35      168  43.1   \n",
       "\n",
       "   DiabetesPedigreeFunction  Age  Outcome  Pregnancies_high  Age_low  \\\n",
       "0                  0.468492   50        1             False    False   \n",
       "1                 -0.365061   31        0             False    False   \n",
       "2                  0.604397   32        1              True    False   \n",
       "3                 -0.920763   21        0             False     True   \n",
       "4                  5.484909   33        1             False    False   \n",
       "\n",
       "   Age_middle  Age_high  Insulin_nan  Insulin_log  low_glu_insulin  \n",
       "0        True     False        169.5     5.138735            False  \n",
       "1        True     False        102.5     4.639572             True  \n",
       "2        True     False        169.5     5.138735            False  \n",
       "3       False     False         94.0     4.553877             True  \n",
       "4        True     False        168.0     5.129899            False  "
      ]
     },
     "execution_count": 5,
     "metadata": {},
     "output_type": "execute_result"
    }
   ],
   "source": [
    "df.head() #다 숫자로 되어있어서 전처리 불필요"
   ]
  },
  {
   "cell_type": "markdown",
   "id": "5c28f1d7",
   "metadata": {},
   "source": [
    "## 학습과 예측에 사용할 데이터셋 만들기"
   ]
  },
  {
   "cell_type": "code",
   "execution_count": 6,
   "id": "0ab409c0",
   "metadata": {},
   "outputs": [
    {
     "data": {
      "text/plain": [
       "Index(['Pregnancies', 'Glucose', 'BloodPressure', 'SkinThickness', 'Insulin',\n",
       "       'BMI', 'DiabetesPedigreeFunction', 'Age', 'Outcome', 'Pregnancies_high',\n",
       "       'Age_low', 'Age_middle', 'Age_high', 'Insulin_nan', 'Insulin_log',\n",
       "       'low_glu_insulin'],\n",
       "      dtype='object')"
      ]
     },
     "execution_count": 6,
     "metadata": {},
     "output_type": "execute_result"
    }
   ],
   "source": [
    "df.columns"
   ]
  },
  {
   "cell_type": "code",
   "execution_count": 7,
   "id": "28c5c984",
   "metadata": {},
   "outputs": [
    {
     "data": {
      "text/plain": [
       "(768, 9)"
      ]
     },
     "execution_count": 7,
     "metadata": {},
     "output_type": "execute_result"
    }
   ],
   "source": [
    "X = df[['Glucose', 'BloodPressure', 'SkinThickness',\n",
    "    'BMI', 'DiabetesPedigreeFunction', 'Age', 'Pregnancies_high',\n",
    "    'Insulin_nan','low_glu_insulin']]\n",
    "X.shape"
   ]
  },
  {
   "cell_type": "code",
   "execution_count": 8,
   "id": "83e2e572",
   "metadata": {},
   "outputs": [
    {
     "data": {
      "text/plain": [
       "(768,)"
      ]
     },
     "execution_count": 8,
     "metadata": {},
     "output_type": "execute_result"
    }
   ],
   "source": [
    "y = df['Outcome']\n",
    "y.shape"
   ]
  },
  {
   "cell_type": "code",
   "execution_count": 9,
   "id": "19e23bff",
   "metadata": {},
   "outputs": [],
   "source": [
    "# 사이킷런에서 제공하는 model_selection 의 train_test_split 으로 만듭니다.\n",
    "from sklearn.model_selection import train_test_split\n",
    "X_train, X_test, y_train, y_test = train_test_split(\n",
    "    X, y, test_size=0.2, random_state=42)"
   ]
  },
  {
   "cell_type": "code",
   "execution_count": 10,
   "id": "e68f16b4",
   "metadata": {},
   "outputs": [
    {
     "data": {
      "text/plain": [
       "((614, 9), (614,))"
      ]
     },
     "execution_count": 10,
     "metadata": {},
     "output_type": "execute_result"
    }
   ],
   "source": [
    "# train 세트의 문제와 정답의 데이터 수를 확인해 주세요\n",
    "X_train.shape, y_train.shape"
   ]
  },
  {
   "cell_type": "code",
   "execution_count": 11,
   "id": "5260a2cf",
   "metadata": {},
   "outputs": [
    {
     "data": {
      "text/plain": [
       "((154, 9), (154,))"
      ]
     },
     "execution_count": 11,
     "metadata": {},
     "output_type": "execute_result"
    }
   ],
   "source": [
    "# test 세트의 문제와 정답의 데이터 수를 확인해 주세요\n",
    "X_test.shape, y_test.shape"
   ]
  },
  {
   "cell_type": "markdown",
   "id": "00287d44",
   "metadata": {},
   "source": [
    "## 여러 개의 알고리즘을 사용해서 비교하기"
   ]
  },
  {
   "cell_type": "code",
   "execution_count": 12,
   "id": "2ab2afa7",
   "metadata": {},
   "outputs": [
    {
     "data": {
      "text/plain": [
       "[DecisionTreeClassifier(random_state=42),\n",
       " RandomForestClassifier(random_state=42),\n",
       " GradientBoostingClassifier(random_state=42)]"
      ]
     },
     "execution_count": 12,
     "metadata": {},
     "output_type": "execute_result"
    }
   ],
   "source": [
    "from sklearn.tree import DecisionTreeClassifier\n",
    "from sklearn.ensemble import RandomForestClassifier, GradientBoostingClassifier\n",
    "\n",
    "estimators = [DecisionTreeClassifier(random_state=42),\n",
    "             RandomForestClassifier(random_state=42),\n",
    "             GradientBoostingClassifier(random_state=42)\n",
    "            ]\n",
    "estimators"
   ]
  },
  {
   "cell_type": "code",
   "execution_count": 13,
   "id": "a37e2a89",
   "metadata": {},
   "outputs": [
    {
     "data": {
      "text/plain": [
       "array([16,  3, 11, 17,  4,  9, 10, 12,  9, 15])"
      ]
     },
     "execution_count": 13,
     "metadata": {},
     "output_type": "execute_result"
    }
   ],
   "source": [
    "max_depth = np.random.randint(2,20,10)\n",
    "max_depth"
   ]
  },
  {
   "cell_type": "code",
   "execution_count": 14,
   "id": "d0ad9698",
   "metadata": {},
   "outputs": [
    {
     "data": {
      "text/plain": [
       "array([0.6608967 , 0.77243797, 0.36463401, 0.42345136, 0.56228387,\n",
       "       0.87330686, 0.4474438 , 0.91092421, 0.98734106, 0.5910585 ])"
      ]
     },
     "execution_count": 14,
     "metadata": {},
     "output_type": "execute_result"
    }
   ],
   "source": [
    "max_features = np.random.uniform(0.3, 1.0, 10)\n",
    "max_features"
   ]
  },
  {
   "cell_type": "code",
   "execution_count": 15,
   "id": "a2b999cc",
   "metadata": {},
   "outputs": [
    {
     "data": {
      "text/plain": [
       "['DecisionTreeClassifier',\n",
       " 'RandomForestClassifier',\n",
       " 'GradientBoostingClassifier']"
      ]
     },
     "execution_count": 15,
     "metadata": {},
     "output_type": "execute_result"
    }
   ],
   "source": [
    "result = []\n",
    "for estimator in estimators:\n",
    "    result.append(estimator.__class__.__name__)\n",
    "result"
   ]
  },
  {
   "cell_type": "code",
   "execution_count": 16,
   "id": "39f34888",
   "metadata": {},
   "outputs": [
    {
     "name": "stdout",
     "output_type": "stream",
     "text": [
      "Fitting 5 folds for each of 100 candidates, totalling 500 fits\n",
      "Fitting 5 folds for each of 100 candidates, totalling 500 fits\n",
      "Fitting 5 folds for each of 100 candidates, totalling 500 fits\n"
     ]
    }
   ],
   "source": [
    "from sklearn.model_selection import RandomizedSearchCV\n",
    "\n",
    "max_depth = np.random.randint(2, 20, 10)\n",
    "max_features = np.random.uniform(0.3, 1.0, 10)\n",
    "\n",
    "param_distributions = {\"max_depth\":max_depth, \n",
    "                       \"max_features\":max_features}\n",
    "\n",
    "results = []\n",
    "for estimator in estimators:\n",
    "    result = []\n",
    "    if estimator.__class__.__name__ != \"DecisionTreeClassifier\":\n",
    "        param_distributions[\"n_estimators\"] = np.random.randint(100,200,10)\n",
    "        \n",
    "    clf = RandomizedSearchCV(estimator,\n",
    "                       param_distributions, \n",
    "                       n_iter=100,\n",
    "                       scoring=\"accuracy\",\n",
    "                       n_jobs=-1,\n",
    "                       cv=5,\n",
    "                       verbose=2\n",
    "                      )\n",
    "    clf.fit(X_train, y_train)\n",
    "    result.append(estimator.__class__.__name__)\n",
    "    result.append(clf.best_params_)\n",
    "    result.append(clf.best_score_)\n",
    "    result.append(clf.score(X_test, y_test))\n",
    "    result.append(clf.cv_results_)\n",
    "    results.append(result)"
   ]
  },
  {
   "cell_type": "code",
   "execution_count": 17,
   "id": "9cb220fb",
   "metadata": {},
   "outputs": [],
   "source": [
    "df = pd.DataFrame(results, columns=[\"estimator\", \"best_params\", \"train_score\", \"test_score\", \"cv_result\"])"
   ]
  },
  {
   "cell_type": "code",
   "execution_count": 19,
   "id": "9d9dfbc7",
   "metadata": {},
   "outputs": [
    {
     "data": {
      "text/html": [
       "<div>\n",
       "<style scoped>\n",
       "    .dataframe tbody tr th:only-of-type {\n",
       "        vertical-align: middle;\n",
       "    }\n",
       "\n",
       "    .dataframe tbody tr th {\n",
       "        vertical-align: top;\n",
       "    }\n",
       "\n",
       "    .dataframe thead th {\n",
       "        text-align: right;\n",
       "    }\n",
       "</style>\n",
       "<table border=\"1\" class=\"dataframe\">\n",
       "  <thead>\n",
       "    <tr style=\"text-align: right;\">\n",
       "      <th></th>\n",
       "      <th>mean_fit_time</th>\n",
       "      <th>std_fit_time</th>\n",
       "      <th>mean_score_time</th>\n",
       "      <th>std_score_time</th>\n",
       "      <th>param_n_estimators</th>\n",
       "      <th>param_max_features</th>\n",
       "      <th>param_max_depth</th>\n",
       "      <th>params</th>\n",
       "      <th>split0_test_score</th>\n",
       "      <th>split1_test_score</th>\n",
       "      <th>split2_test_score</th>\n",
       "      <th>split3_test_score</th>\n",
       "      <th>split4_test_score</th>\n",
       "      <th>mean_test_score</th>\n",
       "      <th>std_test_score</th>\n",
       "      <th>rank_test_score</th>\n",
       "    </tr>\n",
       "  </thead>\n",
       "  <tbody>\n",
       "    <tr>\n",
       "      <th>76</th>\n",
       "      <td>0.557924</td>\n",
       "      <td>0.098609</td>\n",
       "      <td>0.020025</td>\n",
       "      <td>0.007335</td>\n",
       "      <td>143</td>\n",
       "      <td>0.850385</td>\n",
       "      <td>7</td>\n",
       "      <td>{'n_estimators': 143, 'max_features': 0.850384...</td>\n",
       "      <td>0.886179</td>\n",
       "      <td>0.934959</td>\n",
       "      <td>0.869919</td>\n",
       "      <td>0.894309</td>\n",
       "      <td>0.942623</td>\n",
       "      <td>0.905598</td>\n",
       "      <td>0.028321</td>\n",
       "      <td>1</td>\n",
       "    </tr>\n",
       "    <tr>\n",
       "      <th>79</th>\n",
       "      <td>0.631082</td>\n",
       "      <td>0.036215</td>\n",
       "      <td>0.023318</td>\n",
       "      <td>0.006716</td>\n",
       "      <td>143</td>\n",
       "      <td>0.862418</td>\n",
       "      <td>7</td>\n",
       "      <td>{'n_estimators': 143, 'max_features': 0.862418...</td>\n",
       "      <td>0.886179</td>\n",
       "      <td>0.934959</td>\n",
       "      <td>0.869919</td>\n",
       "      <td>0.894309</td>\n",
       "      <td>0.942623</td>\n",
       "      <td>0.905598</td>\n",
       "      <td>0.028321</td>\n",
       "      <td>1</td>\n",
       "    </tr>\n",
       "    <tr>\n",
       "      <th>80</th>\n",
       "      <td>0.640576</td>\n",
       "      <td>0.030772</td>\n",
       "      <td>0.032438</td>\n",
       "      <td>0.012124</td>\n",
       "      <td>165</td>\n",
       "      <td>0.850385</td>\n",
       "      <td>7</td>\n",
       "      <td>{'n_estimators': 165, 'max_features': 0.850384...</td>\n",
       "      <td>0.886179</td>\n",
       "      <td>0.951220</td>\n",
       "      <td>0.869919</td>\n",
       "      <td>0.886179</td>\n",
       "      <td>0.934426</td>\n",
       "      <td>0.905584</td>\n",
       "      <td>0.031431</td>\n",
       "      <td>3</td>\n",
       "    </tr>\n",
       "    <tr>\n",
       "      <th>97</th>\n",
       "      <td>0.487063</td>\n",
       "      <td>0.023312</td>\n",
       "      <td>0.021391</td>\n",
       "      <td>0.008078</td>\n",
       "      <td>143</td>\n",
       "      <td>0.900075</td>\n",
       "      <td>8</td>\n",
       "      <td>{'n_estimators': 143, 'max_features': 0.900074...</td>\n",
       "      <td>0.886179</td>\n",
       "      <td>0.943089</td>\n",
       "      <td>0.869919</td>\n",
       "      <td>0.894309</td>\n",
       "      <td>0.934426</td>\n",
       "      <td>0.905584</td>\n",
       "      <td>0.028335</td>\n",
       "      <td>3</td>\n",
       "    </tr>\n",
       "    <tr>\n",
       "      <th>60</th>\n",
       "      <td>0.573984</td>\n",
       "      <td>0.022285</td>\n",
       "      <td>0.020109</td>\n",
       "      <td>0.004406</td>\n",
       "      <td>165</td>\n",
       "      <td>0.862418</td>\n",
       "      <td>7</td>\n",
       "      <td>{'n_estimators': 165, 'max_features': 0.862418...</td>\n",
       "      <td>0.886179</td>\n",
       "      <td>0.951220</td>\n",
       "      <td>0.869919</td>\n",
       "      <td>0.886179</td>\n",
       "      <td>0.934426</td>\n",
       "      <td>0.905584</td>\n",
       "      <td>0.031431</td>\n",
       "      <td>3</td>\n",
       "    </tr>\n",
       "    <tr>\n",
       "      <th>...</th>\n",
       "      <td>...</td>\n",
       "      <td>...</td>\n",
       "      <td>...</td>\n",
       "      <td>...</td>\n",
       "      <td>...</td>\n",
       "      <td>...</td>\n",
       "      <td>...</td>\n",
       "      <td>...</td>\n",
       "      <td>...</td>\n",
       "      <td>...</td>\n",
       "      <td>...</td>\n",
       "      <td>...</td>\n",
       "      <td>...</td>\n",
       "      <td>...</td>\n",
       "      <td>...</td>\n",
       "      <td>...</td>\n",
       "    </tr>\n",
       "    <tr>\n",
       "      <th>22</th>\n",
       "      <td>0.288041</td>\n",
       "      <td>0.040073</td>\n",
       "      <td>0.015323</td>\n",
       "      <td>0.004381</td>\n",
       "      <td>133</td>\n",
       "      <td>0.607796</td>\n",
       "      <td>2</td>\n",
       "      <td>{'n_estimators': 133, 'max_features': 0.607795...</td>\n",
       "      <td>0.788618</td>\n",
       "      <td>0.878049</td>\n",
       "      <td>0.853659</td>\n",
       "      <td>0.813008</td>\n",
       "      <td>0.934426</td>\n",
       "      <td>0.853552</td>\n",
       "      <td>0.050992</td>\n",
       "      <td>96</td>\n",
       "    </tr>\n",
       "    <tr>\n",
       "      <th>14</th>\n",
       "      <td>0.373950</td>\n",
       "      <td>0.026830</td>\n",
       "      <td>0.015727</td>\n",
       "      <td>0.002291</td>\n",
       "      <td>198</td>\n",
       "      <td>0.470839</td>\n",
       "      <td>2</td>\n",
       "      <td>{'n_estimators': 198, 'max_features': 0.470838...</td>\n",
       "      <td>0.796748</td>\n",
       "      <td>0.886179</td>\n",
       "      <td>0.845528</td>\n",
       "      <td>0.804878</td>\n",
       "      <td>0.926230</td>\n",
       "      <td>0.851913</td>\n",
       "      <td>0.048976</td>\n",
       "      <td>97</td>\n",
       "    </tr>\n",
       "    <tr>\n",
       "      <th>43</th>\n",
       "      <td>0.429952</td>\n",
       "      <td>0.016673</td>\n",
       "      <td>0.022933</td>\n",
       "      <td>0.003699</td>\n",
       "      <td>139</td>\n",
       "      <td>0.850385</td>\n",
       "      <td>2</td>\n",
       "      <td>{'n_estimators': 139, 'max_features': 0.850384...</td>\n",
       "      <td>0.788618</td>\n",
       "      <td>0.869919</td>\n",
       "      <td>0.837398</td>\n",
       "      <td>0.813008</td>\n",
       "      <td>0.942623</td>\n",
       "      <td>0.850313</td>\n",
       "      <td>0.053423</td>\n",
       "      <td>98</td>\n",
       "    </tr>\n",
       "    <tr>\n",
       "      <th>99</th>\n",
       "      <td>0.303079</td>\n",
       "      <td>0.024870</td>\n",
       "      <td>0.011036</td>\n",
       "      <td>0.005660</td>\n",
       "      <td>139</td>\n",
       "      <td>0.862418</td>\n",
       "      <td>2</td>\n",
       "      <td>{'n_estimators': 139, 'max_features': 0.862418...</td>\n",
       "      <td>0.788618</td>\n",
       "      <td>0.869919</td>\n",
       "      <td>0.837398</td>\n",
       "      <td>0.813008</td>\n",
       "      <td>0.942623</td>\n",
       "      <td>0.850313</td>\n",
       "      <td>0.053423</td>\n",
       "      <td>98</td>\n",
       "    </tr>\n",
       "    <tr>\n",
       "      <th>71</th>\n",
       "      <td>0.348394</td>\n",
       "      <td>0.018637</td>\n",
       "      <td>0.017182</td>\n",
       "      <td>0.004281</td>\n",
       "      <td>165</td>\n",
       "      <td>0.843785</td>\n",
       "      <td>2</td>\n",
       "      <td>{'n_estimators': 165, 'max_features': 0.843785...</td>\n",
       "      <td>0.788618</td>\n",
       "      <td>0.869919</td>\n",
       "      <td>0.837398</td>\n",
       "      <td>0.804878</td>\n",
       "      <td>0.942623</td>\n",
       "      <td>0.848687</td>\n",
       "      <td>0.054644</td>\n",
       "      <td>100</td>\n",
       "    </tr>\n",
       "  </tbody>\n",
       "</table>\n",
       "<p>100 rows × 16 columns</p>\n",
       "</div>"
      ],
      "text/plain": [
       "    mean_fit_time  std_fit_time  mean_score_time  std_score_time  \\\n",
       "76       0.557924      0.098609         0.020025        0.007335   \n",
       "79       0.631082      0.036215         0.023318        0.006716   \n",
       "80       0.640576      0.030772         0.032438        0.012124   \n",
       "97       0.487063      0.023312         0.021391        0.008078   \n",
       "60       0.573984      0.022285         0.020109        0.004406   \n",
       "..            ...           ...              ...             ...   \n",
       "22       0.288041      0.040073         0.015323        0.004381   \n",
       "14       0.373950      0.026830         0.015727        0.002291   \n",
       "43       0.429952      0.016673         0.022933        0.003699   \n",
       "99       0.303079      0.024870         0.011036        0.005660   \n",
       "71       0.348394      0.018637         0.017182        0.004281   \n",
       "\n",
       "   param_n_estimators param_max_features param_max_depth  \\\n",
       "76                143           0.850385               7   \n",
       "79                143           0.862418               7   \n",
       "80                165           0.850385               7   \n",
       "97                143           0.900075               8   \n",
       "60                165           0.862418               7   \n",
       "..                ...                ...             ...   \n",
       "22                133           0.607796               2   \n",
       "14                198           0.470839               2   \n",
       "43                139           0.850385               2   \n",
       "99                139           0.862418               2   \n",
       "71                165           0.843785               2   \n",
       "\n",
       "                                               params  split0_test_score  \\\n",
       "76  {'n_estimators': 143, 'max_features': 0.850384...           0.886179   \n",
       "79  {'n_estimators': 143, 'max_features': 0.862418...           0.886179   \n",
       "80  {'n_estimators': 165, 'max_features': 0.850384...           0.886179   \n",
       "97  {'n_estimators': 143, 'max_features': 0.900074...           0.886179   \n",
       "60  {'n_estimators': 165, 'max_features': 0.862418...           0.886179   \n",
       "..                                                ...                ...   \n",
       "22  {'n_estimators': 133, 'max_features': 0.607795...           0.788618   \n",
       "14  {'n_estimators': 198, 'max_features': 0.470838...           0.796748   \n",
       "43  {'n_estimators': 139, 'max_features': 0.850384...           0.788618   \n",
       "99  {'n_estimators': 139, 'max_features': 0.862418...           0.788618   \n",
       "71  {'n_estimators': 165, 'max_features': 0.843785...           0.788618   \n",
       "\n",
       "    split1_test_score  split2_test_score  split3_test_score  \\\n",
       "76           0.934959           0.869919           0.894309   \n",
       "79           0.934959           0.869919           0.894309   \n",
       "80           0.951220           0.869919           0.886179   \n",
       "97           0.943089           0.869919           0.894309   \n",
       "60           0.951220           0.869919           0.886179   \n",
       "..                ...                ...                ...   \n",
       "22           0.878049           0.853659           0.813008   \n",
       "14           0.886179           0.845528           0.804878   \n",
       "43           0.869919           0.837398           0.813008   \n",
       "99           0.869919           0.837398           0.813008   \n",
       "71           0.869919           0.837398           0.804878   \n",
       "\n",
       "    split4_test_score  mean_test_score  std_test_score  rank_test_score  \n",
       "76           0.942623         0.905598        0.028321                1  \n",
       "79           0.942623         0.905598        0.028321                1  \n",
       "80           0.934426         0.905584        0.031431                3  \n",
       "97           0.934426         0.905584        0.028335                3  \n",
       "60           0.934426         0.905584        0.031431                3  \n",
       "..                ...              ...             ...              ...  \n",
       "22           0.934426         0.853552        0.050992               96  \n",
       "14           0.926230         0.851913        0.048976               97  \n",
       "43           0.942623         0.850313        0.053423               98  \n",
       "99           0.942623         0.850313        0.053423               98  \n",
       "71           0.942623         0.848687        0.054644              100  \n",
       "\n",
       "[100 rows x 16 columns]"
      ]
     },
     "execution_count": 19,
     "metadata": {},
     "output_type": "execute_result"
    }
   ],
   "source": [
    "pd.DataFrame(df.loc[1, \"cv_result\"]).sort_values(by=\"rank_test_score\")"
   ]
  },
  {
   "cell_type": "code",
   "execution_count": null,
   "id": "70bf6e17",
   "metadata": {},
   "outputs": [],
   "source": []
  }
 ],
 "metadata": {
  "kernelspec": {
   "display_name": "3.11.7_real",
   "language": "python",
   "name": "3.11.7_real"
  },
  "language_info": {
   "codemirror_mode": {
    "name": "ipython",
    "version": 3
   },
   "file_extension": ".py",
   "mimetype": "text/x-python",
   "name": "python",
   "nbconvert_exporter": "python",
   "pygments_lexer": "ipython3",
   "version": "3.11.5"
  },
  "toc": {
   "base_numbering": 1,
   "nav_menu": {},
   "number_sections": true,
   "sideBar": true,
   "skip_h1_title": false,
   "title_cell": "Table of Contents",
   "title_sidebar": "Contents",
   "toc_cell": false,
   "toc_position": {
    "height": "calc(100% - 180px)",
    "left": "10px",
    "top": "150px",
    "width": "214px"
   },
   "toc_section_display": true,
   "toc_window_display": true
  }
 },
 "nbformat": 4,
 "nbformat_minor": 5
}
